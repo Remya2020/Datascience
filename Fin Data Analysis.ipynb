{
 "cells": [
  {
   "cell_type": "markdown",
   "metadata": {},
   "source": [
    "import all the packages including data reader.Data reader helps to read data from web."
   ]
  },
  {
   "cell_type": "code",
   "execution_count": 2,
   "metadata": {},
   "outputs": [],
   "source": [
    "from pandas_datareader import data, wb\n",
    "import pandas as pd\n",
    "import numpy as np\n",
    "import datetime\n",
    "%matplotlib inline"
   ]
  },
  {
   "cell_type": "markdown",
   "metadata": {},
   "source": [
    "here I would like to see the tesla stock performance from 2018 to 2021,so importing data from web with the help of datareader to the data frame named with teslas ticker symbol."
   ]
  },
  {
   "cell_type": "markdown",
   "metadata": {},
   "source": [
    "initially we need to set start and end date to identify the period to and from which we need data"
   ]
  },
  {
   "cell_type": "code",
   "execution_count": 3,
   "metadata": {},
   "outputs": [],
   "source": [
    "start = datetime.datetime(2018,1,1)\n",
    "end = datetime.datetime(2021,5,17)"
   ]
  },
  {
   "cell_type": "markdown",
   "metadata": {},
   "source": [
    "extract the data to data from TSLA by using data reader from yahoo finance"
   ]
  },
  {
   "cell_type": "code",
   "execution_count": 4,
   "metadata": {},
   "outputs": [],
   "source": [
    "TSLA = data.DataReader('TSLA','yahoo',start,end)"
   ]
  },
  {
   "cell_type": "code",
   "execution_count": 5,
   "metadata": {},
   "outputs": [
    {
     "data": {
      "text/html": [
       "<div>\n",
       "<style scoped>\n",
       "    .dataframe tbody tr th:only-of-type {\n",
       "        vertical-align: middle;\n",
       "    }\n",
       "\n",
       "    .dataframe tbody tr th {\n",
       "        vertical-align: top;\n",
       "    }\n",
       "\n",
       "    .dataframe thead th {\n",
       "        text-align: right;\n",
       "    }\n",
       "</style>\n",
       "<table border=\"1\" class=\"dataframe\">\n",
       "  <thead>\n",
       "    <tr style=\"text-align: right;\">\n",
       "      <th></th>\n",
       "      <th>High</th>\n",
       "      <th>Low</th>\n",
       "      <th>Open</th>\n",
       "      <th>Close</th>\n",
       "      <th>Volume</th>\n",
       "      <th>Adj Close</th>\n",
       "    </tr>\n",
       "    <tr>\n",
       "      <th>Date</th>\n",
       "      <th></th>\n",
       "      <th></th>\n",
       "      <th></th>\n",
       "      <th></th>\n",
       "      <th></th>\n",
       "      <th></th>\n",
       "    </tr>\n",
       "  </thead>\n",
       "  <tbody>\n",
       "    <tr>\n",
       "      <th>2018-01-02</th>\n",
       "      <td>64.421997</td>\n",
       "      <td>62.200001</td>\n",
       "      <td>62.400002</td>\n",
       "      <td>64.106003</td>\n",
       "      <td>21761000.0</td>\n",
       "      <td>64.106003</td>\n",
       "    </tr>\n",
       "    <tr>\n",
       "      <th>2018-01-03</th>\n",
       "      <td>65.050003</td>\n",
       "      <td>63.110001</td>\n",
       "      <td>64.199997</td>\n",
       "      <td>63.450001</td>\n",
       "      <td>22607500.0</td>\n",
       "      <td>63.450001</td>\n",
       "    </tr>\n",
       "    <tr>\n",
       "      <th>2018-01-04</th>\n",
       "      <td>63.709999</td>\n",
       "      <td>61.136002</td>\n",
       "      <td>62.574001</td>\n",
       "      <td>62.924000</td>\n",
       "      <td>49731500.0</td>\n",
       "      <td>62.924000</td>\n",
       "    </tr>\n",
       "    <tr>\n",
       "      <th>2018-01-05</th>\n",
       "      <td>63.448002</td>\n",
       "      <td>62.400002</td>\n",
       "      <td>63.324001</td>\n",
       "      <td>63.316002</td>\n",
       "      <td>22956000.0</td>\n",
       "      <td>63.316002</td>\n",
       "    </tr>\n",
       "    <tr>\n",
       "      <th>2018-01-08</th>\n",
       "      <td>67.403999</td>\n",
       "      <td>63.099998</td>\n",
       "      <td>63.200001</td>\n",
       "      <td>67.281998</td>\n",
       "      <td>49297000.0</td>\n",
       "      <td>67.281998</td>\n",
       "    </tr>\n",
       "    <tr>\n",
       "      <th>...</th>\n",
       "      <td>...</td>\n",
       "      <td>...</td>\n",
       "      <td>...</td>\n",
       "      <td>...</td>\n",
       "      <td>...</td>\n",
       "      <td>...</td>\n",
       "    </tr>\n",
       "    <tr>\n",
       "      <th>2021-05-11</th>\n",
       "      <td>627.099976</td>\n",
       "      <td>595.599976</td>\n",
       "      <td>599.239990</td>\n",
       "      <td>617.200012</td>\n",
       "      <td>46503900.0</td>\n",
       "      <td>617.200012</td>\n",
       "    </tr>\n",
       "    <tr>\n",
       "      <th>2021-05-12</th>\n",
       "      <td>620.409973</td>\n",
       "      <td>586.770020</td>\n",
       "      <td>602.489990</td>\n",
       "      <td>589.890015</td>\n",
       "      <td>33823600.0</td>\n",
       "      <td>589.890015</td>\n",
       "    </tr>\n",
       "    <tr>\n",
       "      <th>2021-05-13</th>\n",
       "      <td>606.460022</td>\n",
       "      <td>559.650024</td>\n",
       "      <td>601.539978</td>\n",
       "      <td>571.690002</td>\n",
       "      <td>44184900.0</td>\n",
       "      <td>571.690002</td>\n",
       "    </tr>\n",
       "    <tr>\n",
       "      <th>2021-05-14</th>\n",
       "      <td>592.869995</td>\n",
       "      <td>570.460022</td>\n",
       "      <td>583.409973</td>\n",
       "      <td>589.739990</td>\n",
       "      <td>33230600.0</td>\n",
       "      <td>589.739990</td>\n",
       "    </tr>\n",
       "    <tr>\n",
       "      <th>2021-05-17</th>\n",
       "      <td>589.729980</td>\n",
       "      <td>561.200012</td>\n",
       "      <td>575.549988</td>\n",
       "      <td>576.830017</td>\n",
       "      <td>32390400.0</td>\n",
       "      <td>576.830017</td>\n",
       "    </tr>\n",
       "  </tbody>\n",
       "</table>\n",
       "<p>849 rows × 6 columns</p>\n",
       "</div>"
      ],
      "text/plain": [
       "                  High         Low        Open       Close      Volume  \\\n",
       "Date                                                                     \n",
       "2018-01-02   64.421997   62.200001   62.400002   64.106003  21761000.0   \n",
       "2018-01-03   65.050003   63.110001   64.199997   63.450001  22607500.0   \n",
       "2018-01-04   63.709999   61.136002   62.574001   62.924000  49731500.0   \n",
       "2018-01-05   63.448002   62.400002   63.324001   63.316002  22956000.0   \n",
       "2018-01-08   67.403999   63.099998   63.200001   67.281998  49297000.0   \n",
       "...                ...         ...         ...         ...         ...   \n",
       "2021-05-11  627.099976  595.599976  599.239990  617.200012  46503900.0   \n",
       "2021-05-12  620.409973  586.770020  602.489990  589.890015  33823600.0   \n",
       "2021-05-13  606.460022  559.650024  601.539978  571.690002  44184900.0   \n",
       "2021-05-14  592.869995  570.460022  583.409973  589.739990  33230600.0   \n",
       "2021-05-17  589.729980  561.200012  575.549988  576.830017  32390400.0   \n",
       "\n",
       "             Adj Close  \n",
       "Date                    \n",
       "2018-01-02   64.106003  \n",
       "2018-01-03   63.450001  \n",
       "2018-01-04   62.924000  \n",
       "2018-01-05   63.316002  \n",
       "2018-01-08   67.281998  \n",
       "...                ...  \n",
       "2021-05-11  617.200012  \n",
       "2021-05-12  589.890015  \n",
       "2021-05-13  571.690002  \n",
       "2021-05-14  589.739990  \n",
       "2021-05-17  576.830017  \n",
       "\n",
       "[849 rows x 6 columns]"
      ]
     },
     "execution_count": 5,
     "metadata": {},
     "output_type": "execute_result"
    }
   ],
   "source": [
    "TSLA"
   ]
  },
  {
   "cell_type": "code",
   "execution_count": 6,
   "metadata": {},
   "outputs": [
    {
     "data": {
      "text/plain": [
       "<AxesSubplot:xlabel='Date'>"
      ]
     },
     "execution_count": 6,
     "metadata": {},
     "output_type": "execute_result"
    },
    {
     "data": {
      "image/png": "[encoded data removed]",
      "text/plain": [
       "<Figure size 432x288 with 1 Axes>"
      ]
     },
     "metadata": {
      "needs_background": "light"
     },
     "output_type": "display_data"
    }
   ],
   "source": [
    "TSLA.plot()"
   ]
  },
  {
   "cell_type": "markdown",
   "metadata": {},
   "source": [
    "splits the month and year"
   ]
  },
  {
   "cell_type": "code",
   "execution_count": 7,
   "metadata": {},
   "outputs": [
    {
     "name": "stdout",
     "output_type": "stream",
     "text": [
      "<class 'pandas.core.frame.DataFrame'>\n",
      "DatetimeIndex: 849 entries, 2018-01-02 to 2021-05-17\n",
      "Data columns (total 6 columns):\n",
      " #   Column     Non-Null Count  Dtype  \n",
      "---  ------     --------------  -----  \n",
      " 0   High       849 non-null    float64\n",
      " 1   Low        849 non-null    float64\n",
      " 2   Open       849 non-null    float64\n",
      " 3   Close      849 non-null    float64\n",
      " 4   Volume     849 non-null    float64\n",
      " 5   Adj Close  849 non-null    float64\n",
      "dtypes: float64(6)\n",
      "memory usage: 46.4 KB\n"
     ]
    }
   ],
   "source": [
    "TSLA.info()"
   ]
  },
  {
   "cell_type": "code",
   "execution_count": 8,
   "metadata": {},
   "outputs": [
    {
     "data": {
      "text/html": [
       "<div>\n",
       "<style scoped>\n",
       "    .dataframe tbody tr th:only-of-type {\n",
       "        vertical-align: middle;\n",
       "    }\n",
       "\n",
       "    .dataframe tbody tr th {\n",
       "        vertical-align: top;\n",
       "    }\n",
       "\n",
       "    .dataframe thead th {\n",
       "        text-align: right;\n",
       "    }\n",
       "</style>\n",
       "<table border=\"1\" class=\"dataframe\">\n",
       "  <thead>\n",
       "    <tr style=\"text-align: right;\">\n",
       "      <th></th>\n",
       "      <th>High</th>\n",
       "      <th>Low</th>\n",
       "      <th>Open</th>\n",
       "      <th>Close</th>\n",
       "      <th>Volume</th>\n",
       "      <th>Adj Close</th>\n",
       "    </tr>\n",
       "    <tr>\n",
       "      <th>Date</th>\n",
       "      <th></th>\n",
       "      <th></th>\n",
       "      <th></th>\n",
       "      <th></th>\n",
       "      <th></th>\n",
       "      <th></th>\n",
       "    </tr>\n",
       "  </thead>\n",
       "  <tbody>\n",
       "    <tr>\n",
       "      <th>2018-01-02</th>\n",
       "      <td>64.421997</td>\n",
       "      <td>62.200001</td>\n",
       "      <td>62.400002</td>\n",
       "      <td>64.106003</td>\n",
       "      <td>21761000.0</td>\n",
       "      <td>64.106003</td>\n",
       "    </tr>\n",
       "    <tr>\n",
       "      <th>2018-01-03</th>\n",
       "      <td>65.050003</td>\n",
       "      <td>63.110001</td>\n",
       "      <td>64.199997</td>\n",
       "      <td>63.450001</td>\n",
       "      <td>22607500.0</td>\n",
       "      <td>63.450001</td>\n",
       "    </tr>\n",
       "    <tr>\n",
       "      <th>2018-01-04</th>\n",
       "      <td>63.709999</td>\n",
       "      <td>61.136002</td>\n",
       "      <td>62.574001</td>\n",
       "      <td>62.924000</td>\n",
       "      <td>49731500.0</td>\n",
       "      <td>62.924000</td>\n",
       "    </tr>\n",
       "    <tr>\n",
       "      <th>2018-01-05</th>\n",
       "      <td>63.448002</td>\n",
       "      <td>62.400002</td>\n",
       "      <td>63.324001</td>\n",
       "      <td>63.316002</td>\n",
       "      <td>22956000.0</td>\n",
       "      <td>63.316002</td>\n",
       "    </tr>\n",
       "    <tr>\n",
       "      <th>2018-01-08</th>\n",
       "      <td>67.403999</td>\n",
       "      <td>63.099998</td>\n",
       "      <td>63.200001</td>\n",
       "      <td>67.281998</td>\n",
       "      <td>49297000.0</td>\n",
       "      <td>67.281998</td>\n",
       "    </tr>\n",
       "  </tbody>\n",
       "</table>\n",
       "</div>"
      ],
      "text/plain": [
       "                 High        Low       Open      Close      Volume  Adj Close\n",
       "Date                                                                         \n",
       "2018-01-02  64.421997  62.200001  62.400002  64.106003  21761000.0  64.106003\n",
       "2018-01-03  65.050003  63.110001  64.199997  63.450001  22607500.0  63.450001\n",
       "2018-01-04  63.709999  61.136002  62.574001  62.924000  49731500.0  62.924000\n",
       "2018-01-05  63.448002  62.400002  63.324001  63.316002  22956000.0  63.316002\n",
       "2018-01-08  67.403999  63.099998  63.200001  67.281998  49297000.0  67.281998"
      ]
     },
     "execution_count": 8,
     "metadata": {},
     "output_type": "execute_result"
    }
   ],
   "source": [
    "TSLA.head(5)"
   ]
  },
  {
   "cell_type": "markdown",
   "metadata": {},
   "source": [
    "Maximum closing price from 20180 to 2021"
   ]
  },
  {
   "cell_type": "code",
   "execution_count": 10,
   "metadata": {},
   "outputs": [
    {
     "data": {
      "text/plain": [
       "883.0900268554688"
      ]
     },
     "execution_count": 10,
     "metadata": {},
     "output_type": "execute_result"
    }
   ],
   "source": [
    "TSLA.xs(key='Close',axis=1).max()"
   ]
  },
  {
   "cell_type": "markdown",
   "metadata": {},
   "source": [
    "Minimum closing price from 2018 to 2012"
   ]
  },
  {
   "cell_type": "code",
   "execution_count": 11,
   "metadata": {},
   "outputs": [
    {
     "data": {
      "text/plain": [
       "35.79399871826172"
      ]
     },
     "execution_count": 11,
     "metadata": {},
     "output_type": "execute_result"
    }
   ],
   "source": [
    "TSLA.xs(key='Close',axis=1).min()"
   ]
  },
  {
   "cell_type": "code",
   "execution_count": null,
   "metadata": {},
   "outputs": [],
   "source": []
  }
 ],
 "metadata": {
  "kernelspec": {
   "display_name": "Python 3",
   "language": "python",
   "name": "python3"
  },
  "language_info": {
   "codemirror_mode": {
    "name": "ipython",
    "version": 3
   },
   "file_extension": ".py",
   "mimetype": "text/x-python",
   "name": "python",
   "nbconvert_exporter": "python",
   "pygments_lexer": "ipython3",
   "version": "3.8.5"
  }
 },
 "nbformat": 4,
 "nbformat_minor": 4
}
